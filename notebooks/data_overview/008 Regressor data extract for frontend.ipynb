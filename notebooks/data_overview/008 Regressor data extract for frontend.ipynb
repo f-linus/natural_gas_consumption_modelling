{
 "cells": [
  {
   "cell_type": "code",
   "execution_count": 1,
   "metadata": {},
   "outputs": [],
   "source": [
    "import os\n",
    "\n",
    "os.chdir(\"../../\")\n",
    "\n",
    "from src.data_handling import ingestion\n",
    "import pandas as pd"
   ]
  },
  {
   "cell_type": "code",
   "execution_count": 3,
   "metadata": {},
   "outputs": [
    {
     "name": "stderr",
     "output_type": "stream",
     "text": [
      "d:\\anaconda3\\envs\\neuralprophet\\lib\\site-packages\\openpyxl\\styles\\stylesheet.py:226: UserWarning: Workbook contains no default style, apply openpyxl's default\n",
      "  warn(\"Workbook contains no default style, apply openpyxl's default\")\n",
      "d:\\anaconda3\\envs\\neuralprophet\\lib\\site-packages\\openpyxl\\styles\\stylesheet.py:226: UserWarning: Workbook contains no default style, apply openpyxl's default\n",
      "  warn(\"Workbook contains no default style, apply openpyxl's default\")\n",
      "d:\\anaconda3\\envs\\neuralprophet\\lib\\site-packages\\openpyxl\\styles\\stylesheet.py:226: UserWarning: Workbook contains no default style, apply openpyxl's default\n",
      "  warn(\"Workbook contains no default style, apply openpyxl's default\")\n",
      "d:\\anaconda3\\envs\\neuralprophet\\lib\\site-packages\\openpyxl\\styles\\stylesheet.py:226: UserWarning: Workbook contains no default style, apply openpyxl's default\n",
      "  warn(\"Workbook contains no default style, apply openpyxl's default\")\n"
     ]
    }
   ],
   "source": [
    "combined = ingestion.read_combined()\n",
    "combined = combined[(combined.index >= \"2017\") & (combined.index < \"2021\")]\n",
    "combined = combined.dropna()\n",
    "\n",
    "# Make index a string in the format YYYY-MM-DD\n",
    "combined.index = combined.index.strftime(\"%Y-%m-%d\")\n",
    "\n",
    "combined.reset_index(inplace=True)\n",
    "combined.to_json(\"data/regressors_combined_extract.json\", orient=\"records\", double_precision=3)"
   ]
  }
 ],
 "metadata": {
  "kernelspec": {
   "display_name": "neuralprophet",
   "language": "python",
   "name": "python3"
  },
  "language_info": {
   "codemirror_mode": {
    "name": "ipython",
    "version": 3
   },
   "file_extension": ".py",
   "mimetype": "text/x-python",
   "name": "python",
   "nbconvert_exporter": "python",
   "pygments_lexer": "ipython3",
   "version": "3.10.9"
  },
  "orig_nbformat": 4,
  "vscode": {
   "interpreter": {
    "hash": "1c84c5e65e922baa469501f7c151a847f470acf3477cfe864cd54b1671252855"
   }
  }
 },
 "nbformat": 4,
 "nbformat_minor": 2
}
