{
 "cells": [
  {
   "cell_type": "code",
   "execution_count": 1,
   "metadata": {},
   "outputs": [],
   "source": [
    "import os\n",
    "\n",
    "os.chdir(\"../../\")\n",
    "\n",
    "import pandas as pd\n",
    "import numpy as np\n",
    "import matplotlib.pyplot as plt\n",
    "import seaborn as sns\n",
    "from src.data_handling import ingestion\n",
    "\n",
    "sns.set_theme(context=\"paper\", font_scale=1.15, style=\"whitegrid\")"
   ]
  },
  {
   "cell_type": "code",
   "execution_count": 2,
   "metadata": {},
   "outputs": [],
   "source": [
    "temperature_data = ingestion.read_temperatures()\n",
    "ncg_consumption, gaspool_consumption, the_consumption = ingestion.read_consumption()\n",
    "consumption_data = pd.concat([ncg_consumption + gaspool_consumption, the_consumption])"
   ]
  }
 ],
 "metadata": {
  "kernelspec": {
   "display_name": "Python 3.10.6 ('datathon-fme2022')",
   "language": "python",
   "name": "python3"
  },
  "language_info": {
   "codemirror_mode": {
    "name": "ipython",
    "version": 3
   },
   "file_extension": ".py",
   "mimetype": "text/x-python",
   "name": "python",
   "nbconvert_exporter": "python",
   "pygments_lexer": "ipython3",
   "version": "3.10.9"
  },
  "orig_nbformat": 4,
  "vscode": {
   "interpreter": {
    "hash": "0a5f1cad13e83ff8f38af6883a908047d62aca5621397592ff06c4814667afdd"
   }
  }
 },
 "nbformat": 4,
 "nbformat_minor": 2
}
